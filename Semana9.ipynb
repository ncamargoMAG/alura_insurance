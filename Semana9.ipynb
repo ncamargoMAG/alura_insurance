{
 "cells": [
  {
   "cell_type": "code",
   "execution_count": 3,
   "metadata": {},
   "outputs": [],
   "source": [
    "import pandas as pd\n",
    "import requests"
   ]
  },
  {
   "cell_type": "code",
   "execution_count": 9,
   "metadata": {},
   "outputs": [
    {
     "data": {
      "text/plain": [
       "pandas.core.frame.DataFrame"
      ]
     },
     "execution_count": 9,
     "metadata": {},
     "output_type": "execute_result"
    }
   ],
   "source": [
    "r = requests.get('https://www.alura.com.br/api/cursos',auth=('ncamargo@mag.com.br','Mongeral2022*'))\n",
    "re = r.json()\n",
    "df = pd.json_normalize(data=re)\n",
    "df"
   ]
  },
  {
   "cell_type": "code",
   "execution_count": 10,
   "metadata": {},
   "outputs": [
    {
     "data": {
      "text/html": [
       "<div>\n",
       "<style scoped>\n",
       "    .dataframe tbody tr th:only-of-type {\n",
       "        vertical-align: middle;\n",
       "    }\n",
       "\n",
       "    .dataframe tbody tr th {\n",
       "        vertical-align: top;\n",
       "    }\n",
       "\n",
       "    .dataframe thead th {\n",
       "        text-align: right;\n",
       "    }\n",
       "</style>\n",
       "<table border=\"1\" class=\"dataframe\">\n",
       "  <thead>\n",
       "    <tr style=\"text-align: right;\">\n",
       "      <th></th>\n",
       "      <th>tempo_estimado</th>\n",
       "      <th>slug</th>\n",
       "      <th>nome</th>\n",
       "    </tr>\n",
       "  </thead>\n",
       "  <tbody>\n",
       "    <tr>\n",
       "      <th>0</th>\n",
       "      <td>8</td>\n",
       "      <td>dot-net-6-identity-controle-usuario</td>\n",
       "      <td>.NET 6 e Identity: implementando controle de u...</td>\n",
       "    </tr>\n",
       "    <tr>\n",
       "      <th>1</th>\n",
       "      <td>10</td>\n",
       "      <td>dotnet-criando-web-api</td>\n",
       "      <td>.NET 6: criando uma web API</td>\n",
       "    </tr>\n",
       "    <tr>\n",
       "      <th>2</th>\n",
       "      <td>8</td>\n",
       "      <td>dotnet-relacionando-entidades</td>\n",
       "      <td>.NET 6: relacionando entidades</td>\n",
       "    </tr>\n",
       "    <tr>\n",
       "      <th>3</th>\n",
       "      <td>6</td>\n",
       "      <td>empresa-agil</td>\n",
       "      <td>A Empresa Ágil: introduzindo o Business Agilit...</td>\n",
       "    </tr>\n",
       "    <tr>\n",
       "      <th>4</th>\n",
       "      <td>6</td>\n",
       "      <td>acessibilidade-web-front-end</td>\n",
       "      <td>Acessibilidade web parte 1: tornando seu front...</td>\n",
       "    </tr>\n",
       "    <tr>\n",
       "      <th>...</th>\n",
       "      <td>...</td>\n",
       "      <td>...</td>\n",
       "      <td>...</td>\n",
       "    </tr>\n",
       "    <tr>\n",
       "      <th>1417</th>\n",
       "      <td>8</td>\n",
       "      <td>wordpress-integracao-whatsapp</td>\n",
       "      <td>Wordpress: integração whatsapp e internacional...</td>\n",
       "    </tr>\n",
       "    <tr>\n",
       "      <th>1418</th>\n",
       "      <td>8</td>\n",
       "      <td>worpress-sites-elementor</td>\n",
       "      <td>Wordpress: sites com Elementor</td>\n",
       "    </tr>\n",
       "    <tr>\n",
       "      <th>1419</th>\n",
       "      <td>8</td>\n",
       "      <td>xdebug-ferramenta-debug-profiling</td>\n",
       "      <td>XDebug: ferramenta de debug e profiling</td>\n",
       "    </tr>\n",
       "    <tr>\n",
       "      <th>1420</th>\n",
       "      <td>20</td>\n",
       "      <td>edicao-de-videos-para-youtube</td>\n",
       "      <td>YouTube: da concepção de um canal ao upload</td>\n",
       "    </tr>\n",
       "    <tr>\n",
       "      <th>1421</th>\n",
       "      <td>10</td>\n",
       "      <td>youtube-estrategias-sucesso-negocio</td>\n",
       "      <td>YouTube: estratégias de sucesso para o seu neg...</td>\n",
       "    </tr>\n",
       "  </tbody>\n",
       "</table>\n",
       "<p>1422 rows × 3 columns</p>\n",
       "</div>"
      ],
      "text/plain": [
       "      tempo_estimado                                 slug  \\\n",
       "0                  8  dot-net-6-identity-controle-usuario   \n",
       "1                 10               dotnet-criando-web-api   \n",
       "2                  8        dotnet-relacionando-entidades   \n",
       "3                  6                         empresa-agil   \n",
       "4                  6         acessibilidade-web-front-end   \n",
       "...              ...                                  ...   \n",
       "1417               8        wordpress-integracao-whatsapp   \n",
       "1418               8             worpress-sites-elementor   \n",
       "1419               8    xdebug-ferramenta-debug-profiling   \n",
       "1420              20        edicao-de-videos-para-youtube   \n",
       "1421              10  youtube-estrategias-sucesso-negocio   \n",
       "\n",
       "                                                   nome  \n",
       "0     .NET 6 e Identity: implementando controle de u...  \n",
       "1                           .NET 6: criando uma web API  \n",
       "2                        .NET 6: relacionando entidades  \n",
       "3     A Empresa Ágil: introduzindo o Business Agilit...  \n",
       "4     Acessibilidade web parte 1: tornando seu front...  \n",
       "...                                                 ...  \n",
       "1417  Wordpress: integração whatsapp e internacional...  \n",
       "1418                     Wordpress: sites com Elementor  \n",
       "1419            XDebug: ferramenta de debug e profiling  \n",
       "1420        YouTube: da concepção de um canal ao upload  \n",
       "1421  YouTube: estratégias de sucesso para o seu neg...  \n",
       "\n",
       "[1422 rows x 3 columns]"
      ]
     },
     "execution_count": 10,
     "metadata": {},
     "output_type": "execute_result"
    }
   ],
   "source": [
    "r1 = requests.get('https://cursos.alura.com.br/api/curso-SLUG_DO_CURSO',auth=('ncamargo@mag.com.br','Mongeral2022*'))\n",
    "re1 = r.json()\n",
    "df1 = pd.json_normalize(data=re)\n",
    "df1"
   ]
  },
  {
   "cell_type": "code",
   "execution_count": 17,
   "metadata": {},
   "outputs": [
    {
     "data": {
      "text/plain": [
       "1422"
      ]
     },
     "execution_count": 17,
     "metadata": {},
     "output_type": "execute_result"
    }
   ],
   "source": [
    "r2 = requests.get('https://cursos.alura.com.br/api/curso-dot-net-6-identity-controle-usuario',auth=('ncamargo@mag.com.br','Mongeral2022*'))\n",
    "re2 = r.json()\n",
    "df2 = pd.json_normalize(data=re)\n"
   ]
  },
  {
   "cell_type": "code",
   "execution_count": 18,
   "metadata": {},
   "outputs": [
    {
     "data": {
      "text/plain": [
       "1422"
      ]
     },
     "execution_count": 18,
     "metadata": {},
     "output_type": "execute_result"
    }
   ],
   "source": []
  }
 ],
 "metadata": {
  "kernelspec": {
   "display_name": "Python 3",
   "language": "python",
   "name": "python3"
  },
  "language_info": {
   "codemirror_mode": {
    "name": "ipython",
    "version": 3
   },
   "file_extension": ".py",
   "mimetype": "text/x-python",
   "name": "python",
   "nbconvert_exporter": "python",
   "pygments_lexer": "ipython3",
   "version": "3.9.13"
  },
  "orig_nbformat": 4
 },
 "nbformat": 4,
 "nbformat_minor": 2
}
